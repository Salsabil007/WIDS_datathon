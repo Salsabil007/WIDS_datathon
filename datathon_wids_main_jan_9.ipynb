{
  "nbformat": 4,
  "nbformat_minor": 0,
  "metadata": {
    "colab": {
      "provenance": []
    },
    "kernelspec": {
      "name": "python3",
      "display_name": "Python 3"
    },
    "language_info": {
      "name": "python"
    }
  },
  "cells": [
    {
      "cell_type": "code",
      "execution_count": 1,
      "metadata": {
        "colab": {
          "base_uri": "https://localhost:8080/"
        },
        "id": "mEH7LhMvP5VH",
        "outputId": "43b462ef-1e17-4587-e58b-d26358450710"
      },
      "outputs": [
        {
          "output_type": "stream",
          "name": "stdout",
          "text": [
            "Mounted at /content/drive\n"
          ]
        }
      ],
      "source": [
        "# Load the Drive helper and mount\n",
        "from google.colab import drive\n",
        "\n",
        "# This will prompt for authorization.\n",
        "drive.mount('/content/drive')"
      ]
    },
    {
      "cell_type": "code",
      "source": [
        "import pandas as pd\n",
        "import numpy as np\n",
        "from sklearn.model_selection import train_test_split\n",
        "from sklearn.preprocessing import FunctionTransformer\n",
        "from sklearn.metrics import mean_squared_error\n",
        "from sklearn.preprocessing import StandardScaler\n",
        "from sklearn.pipeline import Pipeline\n",
        "from sklearn.ensemble import RandomForestRegressor\n",
        "import xgboost"
      ],
      "metadata": {
        "id": "SF2fiD3OQ5ue"
      },
      "execution_count": 43,
      "outputs": []
    },
    {
      "cell_type": "code",
      "source": [
        "!ls \"/content/drive/My Drive/wids_datathon_2023\""
      ],
      "metadata": {
        "colab": {
          "base_uri": "https://localhost:8080/"
        },
        "id": "l3kiu7dPQM5V",
        "outputId": "75576131-1a49-48f2-9643-bda53aac2062"
      },
      "execution_count": 4,
      "outputs": [
        {
          "output_type": "stream",
          "name": "stdout",
          "text": [
            "datathon_wids_main.ipynb  test_data.csv   wids_datathon_23.ipynb\n",
            "sample_solution.csv\t  train_data.csv\n"
          ]
        }
      ]
    },
    {
      "cell_type": "code",
      "source": [
        "test = pd.read_csv(\"/content/drive/My Drive/wids_datathon_2023/test_data.csv\")\n",
        "train = pd.read_csv(\"/content/drive/My Drive/wids_datathon_2023/train_data.csv\")"
      ],
      "metadata": {
        "id": "Qt5GIOyIQPmD"
      },
      "execution_count": 45,
      "outputs": []
    },
    {
      "cell_type": "code",
      "source": [
        "train = train.dropna()\n",
        "y = train['contest-tmp2m-14d__tmp2m']\n",
        "X = train.drop(['contest-tmp2m-14d__tmp2m'], axis = 1)\n",
        "X_train, X_val, y_train, y_val = train_test_split(X, y, test_size=0.20, random_state=42)"
      ],
      "metadata": {
        "id": "MT3Oe8XqYwpg"
      },
      "execution_count": 46,
      "outputs": []
    },
    {
      "cell_type": "code",
      "source": [
        "def build_date_features(df, date_key='startdate'):\n",
        "  df[date_key] = pd.to_datetime(df[date_key])\n",
        "  df['day_of_year'] = df[date_key].dt.day_of_year\n",
        "  df['month'] = df[date_key].dt.month\n",
        "  df = df.drop([date_key], axis=1) \n",
        "\n",
        "build_date_features(X_train, date_key='startdate')\n",
        "build_date_features(X_val, date_key='startdate')"
      ],
      "metadata": {
        "id": "F2Kl6yTtZ93y"
      },
      "execution_count": 47,
      "outputs": []
    },
    {
      "cell_type": "code",
      "source": [
        "def add_season(df):\n",
        "  month_to_season = {\n",
        "      1: 0,\n",
        "      2: 0,\n",
        "      3: 1,\n",
        "      4: 1,\n",
        "      5: 1,\n",
        "      6: 2,\n",
        "      7: 2,\n",
        "      8: 2, \n",
        "      9: 3, \n",
        "      10: 3,\n",
        "      11: 3,\n",
        "      12: 0\n",
        "  }\n",
        "  df['season'] = df['month'].apply(lambda x: month_to_season[x])\n",
        "\n",
        "add_season(X_train)\n",
        "add_season(X_val)"
      ],
      "metadata": {
        "id": "URnfXMuWb5la"
      },
      "execution_count": 48,
      "outputs": []
    },
    {
      "cell_type": "code",
      "source": [
        "def sin_transformer(period):\n",
        "    return FunctionTransformer(lambda x: np.sin(x / period * 2 * np.pi))\n",
        "\n",
        "\n",
        "def cos_transformer(period):\n",
        "    return FunctionTransformer(lambda x: np.cos(x / period * 2 * np.pi))"
      ],
      "metadata": {
        "id": "_950Z68qcEAG"
      },
      "execution_count": 49,
      "outputs": []
    },
    {
      "cell_type": "code",
      "source": [
        "def encode_cyclical(df):\n",
        "  # encode the day with a period of 365\n",
        "  df['day_of_year_sin'] = sin_transformer(365).fit_transform(df['day_of_year'])\n",
        "  df['day_of_year_cos'] = cos_transformer(365).fit_transform(df['day_of_year'])\n",
        "\n",
        "  # encode the month with a period of 12\n",
        "  df['month_sin'] = sin_transformer(12).fit_transform(df['month'])\n",
        "  df['month_cos'] = cos_transformer(12).fit_transform(df['month'])\n",
        "\n",
        "  # encode the season with a period of 4\n",
        "  df['season_sin'] = sin_transformer(4).fit_transform(df['season'])\n",
        "  df['season_cos'] = cos_transformer(4).fit_transform(df['season'])\n",
        "\n",
        "encode_cyclical(X_train)\n",
        "encode_cyclical(X_val)"
      ],
      "metadata": {
        "id": "VMNoiicad7Sw"
      },
      "execution_count": 50,
      "outputs": []
    },
    {
      "cell_type": "code",
      "source": [
        "def identify_correlated(df, threshold):\n",
        "    corr_matrix = df.corr().abs()\n",
        "    mask = np.triu(np.ones_like(corr_matrix, dtype=bool))\n",
        "    reduced_corr_matrix = corr_matrix.mask(mask)\n",
        "    features_to_drop = [c for c in reduced_corr_matrix.columns if any(reduced_corr_matrix[c] > threshold)]\n",
        "    return features_to_drop"
      ],
      "metadata": {
        "id": "WOz-QGiDenZq"
      },
      "execution_count": 51,
      "outputs": []
    },
    {
      "cell_type": "code",
      "source": [
        "X_train = X_train.drop(['startdate'], axis=1) \n",
        "X_val = X_val.drop(['startdate'], axis=1)"
      ],
      "metadata": {
        "id": "FhJ7tSCCeM2G"
      },
      "execution_count": 52,
      "outputs": []
    },
    {
      "cell_type": "code",
      "source": [
        "print(len(X_train.columns))"
      ],
      "metadata": {
        "colab": {
          "base_uri": "https://localhost:8080/"
        },
        "id": "cSFdaD9oewhD",
        "outputId": "028796ff-b323-424d-998d-d362839598bc"
      },
      "execution_count": 53,
      "outputs": [
        {
          "output_type": "stream",
          "name": "stdout",
          "text": [
            "253\n"
          ]
        }
      ]
    },
    {
      "cell_type": "code",
      "source": [
        "to_drop = identify_correlated(X_train, threshold=.80) ##threshold 90 was giving better result\n",
        "print(len(to_drop))"
      ],
      "metadata": {
        "colab": {
          "base_uri": "https://localhost:8080/"
        },
        "id": "FQMGSyfle21G",
        "outputId": "d3ac273c-bf16-4364-eef7-6bb333926774"
      },
      "execution_count": 54,
      "outputs": [
        {
          "output_type": "stream",
          "name": "stdout",
          "text": [
            "106\n"
          ]
        }
      ]
    },
    {
      "cell_type": "code",
      "source": [
        "x_train_reduced = pd.DataFrame(X_train.drop(to_drop, axis=1))\n",
        "print(len(x_train_reduced.columns))\n",
        "x_val_reduced = pd.DataFrame(X_val.drop(to_drop, axis=1))\n",
        "print(len(x_val_reduced.columns))"
      ],
      "metadata": {
        "colab": {
          "base_uri": "https://localhost:8080/"
        },
        "id": "gBZEI2jwgIiq",
        "outputId": "cdc45049-f1ac-4868-b337-df7bf2586c1e"
      },
      "execution_count": 55,
      "outputs": [
        {
          "output_type": "stream",
          "name": "stdout",
          "text": [
            "147\n",
            "147\n"
          ]
        }
      ]
    },
    {
      "cell_type": "code",
      "source": [
        "cat = x_train_reduced.select_dtypes(\"object\").columns\n",
        "x_train_reduced = pd.DataFrame(x_train_reduced.drop(cat, axis=1))\n",
        "print(len(x_train_reduced.columns))\n",
        "x_val_reduced = pd.DataFrame(x_val_reduced.drop(cat, axis=1))\n",
        "print(len(x_val_reduced.columns))"
      ],
      "metadata": {
        "colab": {
          "base_uri": "https://localhost:8080/"
        },
        "id": "EFUf_Uimh2Lk",
        "outputId": "73e3072d-77d8-4026-98e1-133c277683ab"
      },
      "execution_count": 56,
      "outputs": [
        {
          "output_type": "stream",
          "name": "stdout",
          "text": [
            "146\n",
            "146\n"
          ]
        }
      ]
    },
    {
      "cell_type": "code",
      "source": [
        "print(x_train_reduced.dtypes)"
      ],
      "metadata": {
        "colab": {
          "base_uri": "https://localhost:8080/"
        },
        "id": "ZTmjM6PQhhLL",
        "outputId": "23e9bc06-6305-402c-a7f3-7f51abe5d19a"
      },
      "execution_count": 27,
      "outputs": [
        {
          "output_type": "stream",
          "name": "stdout",
          "text": [
            "lat                                   float64\n",
            "lon                                   float64\n",
            "contest-pevpr-sfc-gauss-14d__pevpr    float64\n",
            "contest-rhum-sig995-14d__rhum         float64\n",
            "nmme0-prate-56w__cancm30              float64\n",
            "                                       ...   \n",
            "season                                  int64\n",
            "month_sin                             float64\n",
            "month_cos                             float64\n",
            "season_sin                            float64\n",
            "season_cos                            float64\n",
            "Length: 180, dtype: object\n"
          ]
        }
      ]
    },
    {
      "cell_type": "code",
      "source": [
        "scaler = StandardScaler()\n",
        "x_train_reduced = scaler.fit_transform(x_train_reduced)\n",
        "x_val_reduced = scaler.transform(x_val_reduced)\n",
        "\n",
        "'''rf_model = pipeline.fit(x_train_reduced, y_train)\n",
        "\n",
        "train_preds = rf_model.predict(x_train_reduced)\n",
        "train_score = mean_squared_error(y_train, train_preds, squared = False)\n",
        "\n",
        "test_preds = rf_model.predict(x_val_reduced)\n",
        "test_score = mean_squared_error(y_val, test_preds, squared = False)\n",
        "\n",
        "print (f'Training Performance: {train_score}')\n",
        "print (f'Test Performance: {test_score}')'''"
      ],
      "metadata": {
        "colab": {
          "base_uri": "https://localhost:8080/",
          "height": 53
        },
        "id": "is4RM0W1gqUY",
        "outputId": "8e1c169c-2655-4aec-80d4-62c440ebd13c"
      },
      "execution_count": 57,
      "outputs": [
        {
          "output_type": "execute_result",
          "data": {
            "text/plain": [
              "\"rf_model = pipeline.fit(x_train_reduced, y_train)\\n\\ntrain_preds = rf_model.predict(x_train_reduced)\\ntrain_score = mean_squared_error(y_train, train_preds, squared = False)\\n\\ntest_preds = rf_model.predict(x_val_reduced)\\ntest_score = mean_squared_error(y_val, test_preds, squared = False)\\n\\nprint (f'Training Performance: {train_score}')\\nprint (f'Test Performance: {test_score}')\""
            ],
            "application/vnd.google.colaboratory.intrinsic+json": {
              "type": "string"
            }
          },
          "metadata": {},
          "execution_count": 57
        }
      ]
    },
    {
      "cell_type": "code",
      "source": [
        "xgboost_model = xgboost.XGBRegressor(n_estimators=200, learning_rate=0.02, gamma=0, subsample=0.75,\n",
        "                           colsample_bytree=0.4, max_depth=5)\n",
        "\n",
        "xgboost_model.fit(x_train_reduced,y_train)\n",
        "\n",
        "train_preds = xgboost_model.predict(x_train_reduced)\n",
        "train_score = mean_squared_error(y_train, train_preds, squared = False)\n",
        "\n",
        "test_preds = xgboost_model.predict(x_val_reduced)\n",
        "test_score = mean_squared_error(y_val, test_preds, squared = False)\n",
        "\n",
        "print (f'Training Performance: {train_score}')\n",
        "print (f'Test Performance: {test_score}')"
      ],
      "metadata": {
        "colab": {
          "base_uri": "https://localhost:8080/"
        },
        "id": "SrewvdC8qBR4",
        "outputId": "6473d060-d295-49ff-dc93-0c0dbbfc3426"
      },
      "execution_count": 58,
      "outputs": [
        {
          "output_type": "stream",
          "name": "stdout",
          "text": [
            "[03:23:55] WARNING: /workspace/src/objective/regression_obj.cu:152: reg:linear is now deprecated in favor of reg:squarederror.\n",
            "Training Performance: 1.611753882718399\n",
            "Test Performance: 1.6326653586888924\n"
          ]
        }
      ]
    },
    {
      "cell_type": "code",
      "source": [
        "print(X_train.dtypes)"
      ],
      "metadata": {
        "colab": {
          "base_uri": "https://localhost:8080/"
        },
        "id": "AOpW6DukaaZE",
        "outputId": "6a130762-1a4e-4e3d-fcd8-4908c05a4c3a"
      },
      "execution_count": 18,
      "outputs": [
        {
          "output_type": "stream",
          "name": "stdout",
          "text": [
            "index                                          int64\n",
            "lat                                          float64\n",
            "lon                                          float64\n",
            "startdate                             datetime64[ns]\n",
            "contest-pevpr-sfc-gauss-14d__pevpr           float64\n",
            "                                           ...      \n",
            "day_of_year_cos                              float64\n",
            "month_sin                                    float64\n",
            "month_cos                                    float64\n",
            "season_sin                                   float64\n",
            "season_cos                                   float64\n",
            "Length: 254, dtype: object\n"
          ]
        }
      ]
    }
  ]
}